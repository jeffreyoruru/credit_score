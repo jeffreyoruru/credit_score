{
 "cells": [
  {
   "cell_type": "code",
   "execution_count": null,
   "id": "9b49ed39",
   "metadata": {},
   "outputs": [],
   "source": [
    "import numpy as np \n",
    "import pandas as pd \n",
    "import matplotlib.pyplot as plt \n",
    "import seaborn as sns"
   ]
  },
  {
   "cell_type": "code",
   "execution_count": null,
   "id": "d9b67f2f",
   "metadata": {},
   "outputs": [],
   "source": [
    "# set some display setting for pandas \n",
    "\n",
    "pd.set_option(\"display.max_columns\", None)\n",
    "# set some display setting for seaborn\n",
    "\n",
    "sns.set_style(\"whitegrid\")"
   ]
  },
  {
   "cell_type": "code",
   "execution_count": null,
   "id": "659a34c0",
   "metadata": {},
   "outputs": [],
   "source": [
    "df=pd.read_csv(\"german_credit_data.csv\")\n",
    "df.head()"
   ]
  },
  {
   "cell_type": "code",
   "execution_count": null,
   "id": "eb662aa9",
   "metadata": {},
   "outputs": [],
   "source": [
    "df[\"Age\"].describe()"
   ]
  },
  {
   "cell_type": "code",
   "execution_count": null,
   "id": "ff40e6ba",
   "metadata": {},
   "outputs": [],
   "source": [
    "df[\"Risk\"].value_counts()\n",
    "# The results show class imbalances. We must find a way to handle these imbalances"
   ]
  },
  {
   "cell_type": "code",
   "execution_count": null,
   "id": "1afc045e",
   "metadata": {},
   "outputs": [],
   "source": [
    "df.info()"
   ]
  },
  {
   "cell_type": "code",
   "execution_count": null,
   "id": "461f759c",
   "metadata": {},
   "outputs": [],
   "source": [
    "df.shape"
   ]
  },
  {
   "cell_type": "code",
   "execution_count": null,
   "id": "c7966f8f",
   "metadata": {},
   "outputs": [],
   "source": [
    "df.describe()"
   ]
  },
  {
   "cell_type": "code",
   "execution_count": null,
   "id": "6c2a4d8b",
   "metadata": {},
   "outputs": [],
   "source": [
    "df.describe(include=\"all\").T"
   ]
  },
  {
   "cell_type": "code",
   "execution_count": null,
   "id": "624bf932",
   "metadata": {},
   "outputs": [],
   "source": [
    "df[\"Job\"].unique()"
   ]
  },
  {
   "cell_type": "code",
   "execution_count": null,
   "id": "beee3d77",
   "metadata": {},
   "outputs": [],
   "source": [
    "df.isna().sum()"
   ]
  },
  {
   "cell_type": "code",
   "execution_count": null,
   "id": "29d9b6dc",
   "metadata": {},
   "outputs": [],
   "source": [
    "df.duplicated().sum()"
   ]
  },
  {
   "cell_type": "code",
   "execution_count": null,
   "id": "a577383b",
   "metadata": {},
   "outputs": [],
   "source": [
    "df= df.dropna().reset_index(drop=True)"
   ]
  },
  {
   "cell_type": "code",
   "execution_count": null,
   "id": "9f2f39ea",
   "metadata": {},
   "outputs": [],
   "source": [
    "df.drop(columns='Unamed: 0', inplace = True)"
   ]
  },
  {
   "cell_type": "code",
   "execution_count": null,
   "id": "1aa7cd52",
   "metadata": {},
   "outputs": [],
   "source": [
    "df.columns"
   ]
  },
  {
   "cell_type": "code",
   "execution_count": null,
   "id": "b71469c6",
   "metadata": {},
   "outputs": [],
   "source": [
    "df[[\"Age\", 'Credit amount', \"Duration\"]].hist(bins=20, edgecolor=\"black\")\n",
    "plt.suptitle(\"Distribution of Numerical Features\", fontsize=14)\n",
    "plt.show()"
   ]
  },
  {
   "cell_type": "code",
   "execution_count": null,
   "id": "0931f989",
   "metadata": {},
   "outputs": [],
   "source": [
    "plt.figure(figuresize=(10,5))\n",
    "for i, col in enumerate([\"Age\", 'Credit amount', \"Duration\"]):\n",
    "    plt.subplot(1,3, i+1)\n",
    "    sns.boxplot(y=df[col], color=\"skyblue\")\n",
    "    plt.title(col)\n",
    "plt.tight_layout()\n",
    "plt.show()"
   ]
  },
  {
   "cell_type": "code",
   "execution_count": null,
   "id": "e2182ea7",
   "metadata": {},
   "outputs": [],
   "source": [
    "df.query(\"Duration >70\")\n",
    "df.query(\"Duration >=60\")"
   ]
  },
  {
   "cell_type": "code",
   "execution_count": null,
   "id": "10b5d1e5",
   "metadata": {},
   "outputs": [],
   "source": [
    "categorical_cols =[\"Sex\", \"Housing\", \"Saving accounts\", \"Checking account\", \"Purpose\"]"
   ]
  },
  {
   "cell_type": "code",
   "execution_count": null,
   "id": "463c5158",
   "metadata": {},
   "outputs": [],
   "source": [
    "# 19 minutes\n",
    "plt.figure(figsize=(10,5))\n",
    "for i, col in enumerate(categorical_cols):\n",
    "    plt.subplot(3,3,i+1)\n",
    "    sns.countplot(data=df, x=col, palette=\"Set2\", order=df[col].value_counts)\n",
    "    plt.title(f\"Distribution of {col}\")\n",
    "    plt.xticks(rotation=45)\n",
    "\n",
    "plt.tight_layout()\n",
    "plt.show()"
   ]
  },
  {
   "cell_type": "code",
   "execution_count": null,
   "id": "e07d1cf1",
   "metadata": {},
   "outputs": [],
   "source": [
    "corr = df[[\"Age\", \"Job\", \"Credit amount\", \"Duration\"]].corr()\n",
    "corr"
   ]
  },
  {
   "cell_type": "code",
   "execution_count": null,
   "id": "c4579622",
   "metadata": {},
   "outputs": [],
   "source": [
    "sns.heatmap(corr, annot=True, cmap=\"coolwarm\", fmt=\".2f\")\n",
    "plt.show()"
   ]
  },
  {
   "cell_type": "code",
   "execution_count": null,
   "id": "93103f02",
   "metadata": {},
   "outputs": [],
   "source": [
    "df.groupby(\"Job\")[\"Credit amount\"].mean()"
   ]
  },
  {
   "cell_type": "code",
   "execution_count": null,
   "id": "1179b0eb",
   "metadata": {},
   "outputs": [],
   "source": [
    "df.groupby(\"Sex\")[\"Credit amount\"].mean()"
   ]
  },
  {
   "cell_type": "code",
   "execution_count": null,
   "id": "0f6bddb4",
   "metadata": {},
   "outputs": [],
   "source": [
    "pd.pivot_table(df, values=\"Credit amount\", index=\"Housing\", columns=\"Purpose\")"
   ]
  },
  {
   "cell_type": "code",
   "execution_count": null,
   "id": "08db4b00",
   "metadata": {},
   "outputs": [],
   "source": [
    "sns.scatterplot(data=df, x=\"Age\", y=\"Credit amount\", hue=\"Sex\", size=\"Duration\", \n",
    "                alpha=0.7, palette=\"Set1\" )\n",
    "plt.title(\"Credit amount vs Age coloured by sex and sized by Duration\")"
   ]
  },
  {
   "cell_type": "code",
   "execution_count": null,
   "id": "60f9b1e7",
   "metadata": {},
   "outputs": [],
   "source": [
    "sns.violinplot(data=df, x=\"Savings accounts\", y=\"Credit amount\", palette =\"Pastel1\")\n",
    "plt.title(\"Credit Amount Distribution by Saving Accounts\")"
   ]
  },
  {
   "cell_type": "code",
   "execution_count": null,
   "id": "308be310",
   "metadata": {},
   "outputs": [],
   "source": [
    "df[\"Risk\"].value_counts(normalize=True)*100"
   ]
  },
  {
   "cell_type": "code",
   "execution_count": null,
   "id": "1dcd3664",
   "metadata": {},
   "outputs": [],
   "source": [
    "plt.figure(figsize=(10,5))\n",
    "for i, col in enumerate([\"Age\", \"Credit Amount\", \"Duration\"]):\n",
    "    plt.subplots(1,3,i+1)\n",
    "    sns.boxplot(data=df,x=\"Risk\", y=col, palette =\"Pastel2\")\n",
    "    plt.title(f\"{col} by Risk\")\n",
    "plt.tight_layout()\n",
    "plt.show()"
   ]
  },
  {
   "cell_type": "code",
   "execution_count": null,
   "id": "259210d8",
   "metadata": {},
   "outputs": [],
   "source": [
    "df.groupby(\"Risk\")[[\"Age\",\"Credit amount\", \"Duration\"]].mean()"
   ]
  },
  {
   "cell_type": "code",
   "execution_count": null,
   "id": "3cd7ffcf",
   "metadata": {},
   "outputs": [],
   "source": [
    "plt.figure(figsize=(10,10))\n",
    "for i, col in enumerate(categorical_cols):\n",
    "    plt.subplot(3,3,i+1)\n",
    "    sns.countplot(data=df, x=col, hue=\"Risk\", palatte=\"Set1\", order=df[col].value_counts().index)\n",
    "    plt.title(f\"{col} by Risk\")\n",
    "    plt.xticks(rotation =45)\n",
    "\n",
    "plt.tight_layout()\n",
    "plt.show()"
   ]
  },
  {
   "cell_type": "code",
   "execution_count": null,
   "id": "367b337f",
   "metadata": {},
   "outputs": [],
   "source": [
    "features =[\"Age\", \"Sex\", \"Job\", \"Housing\", \"Saving accounts\", \"Checking account\", \"Credit amount\", \"Duration\"]"
   ]
  },
  {
   "cell_type": "code",
   "execution_count": null,
   "id": "cebdd878",
   "metadata": {},
   "outputs": [],
   "source": [
    "target=\"Risk\""
   ]
  },
  {
   "cell_type": "code",
   "execution_count": null,
   "id": "a625f7c1",
   "metadata": {},
   "outputs": [],
   "source": [
    "df_model = df[features + [target]].copy()"
   ]
  },
  {
   "cell_type": "code",
   "execution_count": null,
   "id": "28d5736e",
   "metadata": {},
   "outputs": [],
   "source": [
    "df_model.head()"
   ]
  },
  {
   "cell_type": "code",
   "execution_count": null,
   "id": "59366486",
   "metadata": {},
   "outputs": [],
   "source": [
    "from sklearn.preprocessing import LabelEncoder \n",
    "import joblib"
   ]
  },
  {
   "cell_type": "code",
   "execution_count": null,
   "id": "dfb0b8fd",
   "metadata": {},
   "outputs": [],
   "source": [
    "cat_cols =df_model.select_dtypes(include=\"object\").columns.drop(\"Risk\")"
   ]
  },
  {
   "cell_type": "code",
   "execution_count": null,
   "id": "44df6081",
   "metadata": {},
   "outputs": [],
   "source": [
    "le_dict ={}"
   ]
  },
  {
   "cell_type": "code",
   "execution_count": null,
   "id": "48efa2ab",
   "metadata": {},
   "outputs": [],
   "source": [
    "cat_cols"
   ]
  },
  {
   "cell_type": "code",
   "execution_count": null,
   "id": "b6ee36f1",
   "metadata": {},
   "outputs": [],
   "source": [
    "for col in cat_cols:\n",
    "    le=LabelEncoder()\n",
    "    df_model[col]=le.fit_transform(df_model[col])\n",
    "    le_dict[col]=le\n",
    "    joblib.dump(le, f\"{col}_encoder.pkl\")"
   ]
  },
  {
   "cell_type": "code",
   "execution_count": null,
   "id": "cbd2b128",
   "metadata": {},
   "outputs": [],
   "source": [
    "le_target=LabelEncoder()"
   ]
  },
  {
   "cell_type": "code",
   "execution_count": null,
   "id": "649511fc",
   "metadata": {},
   "outputs": [],
   "source": [
    "df_model[target]=le_target.fit_transform(df_model[target])"
   ]
  },
  {
   "cell_type": "code",
   "execution_count": null,
   "id": "6cfa1521",
   "metadata": {},
   "outputs": [],
   "source": [
    "df_model[target].value_counts()"
   ]
  },
  {
   "cell_type": "code",
   "execution_count": null,
   "id": "d712c884",
   "metadata": {},
   "outputs": [],
   "source": [
    "joblib.dump(le_target,\"target_encoder.pkl\")"
   ]
  },
  {
   "cell_type": "code",
   "execution_count": null,
   "id": "c831f91e",
   "metadata": {},
   "outputs": [],
   "source": [
    "df_model.head()"
   ]
  },
  {
   "cell_type": "code",
   "execution_count": null,
   "id": "524dd2d2",
   "metadata": {},
   "outputs": [],
   "source": [
    "from sklearn.model_selection import train_test_split"
   ]
  },
  {
   "cell_type": "code",
   "execution_count": null,
   "id": "96944d5a",
   "metadata": {},
   "outputs": [],
   "source": [
    "X=df_model.drop(target, axis =1)\n",
    "y=df_model[target]"
   ]
  },
  {
   "cell_type": "code",
   "execution_count": null,
   "id": "a34c4e81",
   "metadata": {},
   "outputs": [],
   "source": [
    "X_train, X_test, y_train, y_test=train_test_split(X, y, test_size=0.2, stratify=y, random_state=40)"
   ]
  },
  {
   "cell_type": "code",
   "execution_count": null,
   "id": "8de7e784",
   "metadata": {},
   "outputs": [],
   "source": [
    "X_train.shape"
   ]
  },
  {
   "cell_type": "code",
   "execution_count": null,
   "id": "a0f1348c",
   "metadata": {},
   "outputs": [],
   "source": [
    "X_test.shape"
   ]
  },
  {
   "cell_type": "code",
   "execution_count": null,
   "id": "30f121e6",
   "metadata": {},
   "outputs": [],
   "source": [
    "from sklearn.tree import DecisionTreeClassifier\n",
    "from sklearn.ensemble import RandomForestClassifier, ExtraTreesClassifier\n",
    "from xgboost import XGBClassifier\n",
    "from sklearn.metrics import accuracy_score \n",
    "from sklearn.model_selection import GridSearchCV"
   ]
  },
  {
   "cell_type": "code",
   "execution_count": null,
   "id": "f0a509c0",
   "metadata": {},
   "outputs": [],
   "source": [
    "def train_model(model, param_grid, X_train, y_train, Xtest, y_test):\n",
    "    grid=GridSearchCV(model, param_grid, cv=5, scoring =\"accuracy\", n_jobs=-1)\n",
    "    grid.fit(X_train, y_train)\n",
    "    best_model =grid.best_estimator_ \n",
    "    y_pred = best_model.predict(X_test)\n",
    "    acc = accuracy_score(y_test, y_pred)\n",
    "    return best_model, acc, grid.best_params_\n",
    "\n"
   ]
  },
  {
   "cell_type": "code",
   "execution_count": null,
   "id": "6db1ae44",
   "metadata": {},
   "outputs": [],
   "source": [
    "dt =DecisionTreeClassifier(random_state=40,class_weights=\"balanced\")\n",
    "dt_param_grid={\n",
    "    \"max_depth\" : [3,5,7,10, None],\n",
    "    \"min_samples_split\": [2,5,100],\n",
    "    \"min_samples_leaf\": [1,2,4]\n",
    "}"
   ]
  },
  {
   "cell_type": "code",
   "execution_count": null,
   "id": "bf52a09b",
   "metadata": {},
   "outputs": [],
   "source": [
    "best_dt, acc_dt, params_dt=train_model(dt, dt_param_grid, X_train, y_train, X_test, y_test)"
   ]
  },
  {
   "cell_type": "code",
   "execution_count": null,
   "id": "b554fa14",
   "metadata": {},
   "outputs": [],
   "source": [
    "print(\"Decision Tree Accuracy\", acc_dt)"
   ]
  },
  {
   "cell_type": "code",
   "execution_count": null,
   "id": "0e87a5a3",
   "metadata": {},
   "outputs": [],
   "source": [
    "print(\"Best parameters\", params_dt)"
   ]
  },
  {
   "cell_type": "code",
   "execution_count": null,
   "id": "3f58dc36",
   "metadata": {},
   "outputs": [],
   "source": [
    "rf = RandomForestClassifier(random_state=1, class_weight=\"balanced\", n_jobs=-1)"
   ]
  },
  {
   "cell_type": "code",
   "execution_count": null,
   "id": "cd219e1d",
   "metadata": {},
   "outputs": [],
   "source": [
    "rf_param_grid={\n",
    "    \"n_estimators\": [100,200],\n",
    "    \"max_depth\": [5,7,10, None], \n",
    "    \"min_samples_split\": [2,5,10],\n",
    "    \"min_samples_leaf\": [1,2,4]\n",
    "}"
   ]
  },
  {
   "cell_type": "code",
   "execution_count": null,
   "id": "23a2f176",
   "metadata": {},
   "outputs": [],
   "source": [
    "best_rf, acc_rf, params_rf = train_model(rf, rf_param_grid, X_train, y_train, X_test, y_test)"
   ]
  },
  {
   "cell_type": "code",
   "execution_count": null,
   "id": "93ab2052",
   "metadata": {},
   "outputs": [],
   "source": [
    "print(\"Random Forest Accuracy\", acc_rf)"
   ]
  },
  {
   "cell_type": "code",
   "execution_count": null,
   "id": "93fc6fa0",
   "metadata": {},
   "outputs": [],
   "source": [
    "print(\"Best params\", params_rf)"
   ]
  },
  {
   "cell_type": "code",
   "execution_count": null,
   "id": "0ba027d6",
   "metadata": {},
   "outputs": [],
   "source": [
    "et =ExtraTreesClassifier(random_state=1, class_weight=\"balanced\", n_jobs=-1)"
   ]
  },
  {
   "cell_type": "code",
   "execution_count": null,
   "id": "121fca95",
   "metadata": {},
   "outputs": [],
   "source": [
    "et_param_grid={\n",
    "    \"n_estimators\": [100,200],\n",
    "    \"max_depth\": [5,7,10, None], \n",
    "    \"min_samples_split\": [2,5,10],\n",
    "    \"min_samples_leaf\": [1,2,4]\n",
    "}"
   ]
  },
  {
   "cell_type": "code",
   "execution_count": null,
   "id": "239d68e8",
   "metadata": {},
   "outputs": [],
   "source": [
    "best_et, acc_et, params_et = train_model(et, et_param_grid, X_train, y_train, X_test, y_test)"
   ]
  },
  {
   "cell_type": "code",
   "execution_count": null,
   "id": "50483450",
   "metadata": {},
   "outputs": [],
   "source": [
    "print(\"Extra Trees Accuracy\", acc_et)"
   ]
  },
  {
   "cell_type": "code",
   "execution_count": null,
   "id": "dd251050",
   "metadata": {},
   "outputs": [],
   "source": [
    "print(\"Best params\", params_et)"
   ]
  },
  {
   "cell_type": "code",
   "execution_count": null,
   "id": "d33f5dad",
   "metadata": {},
   "outputs": [],
   "source": [
    "xgb =XGBClassifier(random_state=1, scale_pos_weight =(y_train==0).sum()/(y_train==1).sum()), use_label_encoder=False, eval_metric=\"logloss\""
   ]
  },
  {
   "cell_type": "code",
   "execution_count": null,
   "id": "e854101b",
   "metadata": {},
   "outputs": [],
   "source": [
    "xgb_param_grid ={\n",
    "    \"n_estimators\": [100, 200], \n",
    "    \"max_depth\": [3,5,7],\n",
    "    \"learning_rate\": [0.01, 0.1, 0.2],\n",
    "    \"subsample\": [0.7, 1],\n",
    "    \"colsample_bytree\": [0.7,1]\n",
    "}"
   ]
  },
  {
   "cell_type": "code",
   "execution_count": null,
   "id": "a777a764",
   "metadata": {},
   "outputs": [],
   "source": [
    "best_xgb, acc_xgb, params_xgb = train_model(xgb, xgb_param_grid, X_train, y_train, X_test, y_test)"
   ]
  },
  {
   "cell_type": "code",
   "execution_count": null,
   "id": "1eb1db8e",
   "metadata": {},
   "outputs": [],
   "source": [
    "print(\"Extra Trees Accuracy\", acc_xgb)"
   ]
  },
  {
   "cell_type": "code",
   "execution_count": null,
   "id": "b0795e47",
   "metadata": {},
   "outputs": [],
   "source": [
    "print(\"Best params\", params_xgb)"
   ]
  },
  {
   "cell_type": "code",
   "execution_count": null,
   "id": "4d74d024",
   "metadata": {},
   "outputs": [],
   "source": [
    "joblib.dump(best_et, \"extra_trees_credit_model.pkl\")"
   ]
  },
  {
   "cell_type": "code",
   "execution_count": null,
   "id": "0accc493",
   "metadata": {},
   "outputs": [],
   "source": [
    "#"
   ]
  }
 ],
 "metadata": {
  "kernelspec": {
   "display_name": "base",
   "language": "python",
   "name": "python3"
  },
  "language_info": {
   "name": "python",
   "version": "3.12.7"
  }
 },
 "nbformat": 4,
 "nbformat_minor": 5
}
